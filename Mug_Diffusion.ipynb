{
  "cells": [
    {
      "cell_type": "markdown",
      "metadata": {
        "id": "view-in-github",
        "colab_type": "text"
      },
      "source": [
        "<a href=\"https://colab.research.google.com/github/immccn123/Mug-Diffusion-Colab/blob/main/Mug_Diffusion.ipynb\" target=\"_parent\"><img src=\"https://colab.research.google.com/assets/colab-badge.svg\" alt=\"Open In Colab\"/></a>"
      ]
    },
    {
      "cell_type": "markdown",
      "metadata": {
        "id": "Q1QxPecNqAzg"
      },
      "source": [
        "项目地址：https://github.com/Keytoyze/Mug-Diffusion"
      ]
    },
    {
      "cell_type": "code",
      "execution_count": null,
      "metadata": {
        "id": "mjbtHqQTqe6X"
      },
      "outputs": [],
      "source": [
        "#@title ### 0. 检查 GPU 工作状态\n",
        "\n",
        "!nvidia-smi\n"
      ]
    },
    {
      "cell_type": "code",
      "execution_count": null,
      "metadata": {
        "id": "BY2i9WYvq89n"
      },
      "outputs": [],
      "source": [
        "#@title ### 1. 下载 MuG Diffusion 后端 & 模型 \n",
        "#@markdown 如果下载速度太慢可尝试 Restart\n",
        "\n",
        "%cd /content/\n",
        "!apt install -y -qq git\n",
        "!git clone https://github.com/Keytoyze/Mug-Diffusion.git ./MG\n",
        "!cp -rf ./MG/* .\n",
        "!pip3 install gdown\n",
        "!gdown https://drive.google.com/uc?id=1-TmLsveLAjRCPwd0iwXS7V1v61MlQ7DM -O MugDiffusion.zip\n",
        "!unzip MugDiffusion.zip \"*/models/ckpt/*\" -d . && rm MugDiffusion.zip\n",
        "!cp -rf MugDiffusion/* .\n",
        "\n"
      ]
    },
    {
      "cell_type": "code",
      "execution_count": null,
      "metadata": {
        "id": "q4Pbop96sHBp"
      },
      "outputs": [],
      "source": [
        "#@title ### 2. 安装依赖\n",
        "#@markdown ```\n",
        "#@markdown WARNING: The following packages were previously imported in this runtime:\n",
        "#@markdown  [pydevd_plugins]\n",
        "#@markdown ```\n",
        "#@markdown 请忽略这条警告，不用 Restart。\n",
        "\n",
        "# !pip3 install torch torchvision torchaudio --index-url https://download.pytorch.org/whl/cu118\n",
        "!pip3 install -r requirements.txt\n",
        "!wget -q https://github.com/cloudflare/cloudflared/releases/latest/download/cloudflared-linux-amd64.deb && dpkg -i cloudflared-linux-amd64.deb"
      ]
    },
    {
      "cell_type": "code",
      "execution_count": null,
      "metadata": {
        "id": "3kmuDL9DsQoY"
      },
      "outputs": [],
      "source": [
        "#@title ### 3. 启动模型\n",
        "#@markdown 访问输出的映射地址（以 `trycloudflare.com` / `bore.pub` 结尾）即可。\n",
        "#@markdown - 请等待模型加载完成（出现 `Running on local URL:  http://127.0.0.1:7860` 字样）再访问\n",
        "#@markdown - Cloudflare 提供的服务偶尔会出现请求超时，所以出锅了就多试几次\n",
        "!python3 webui.py & cloudflared tunnel --url localhost:7860"
      ]
    }
  ],
  "metadata": {
    "colab": {
      "toc_visible": true,
      "provenance": [],
      "authorship_tag": "ABX9TyPN9bClvVNrllg7DhNwXRxR",
      "include_colab_link": true
    },
    "kernelspec": {
      "display_name": "Python 3",
      "name": "python3"
    },
    "language_info": {
      "name": "python"
    },
    "accelerator": "GPU",
    "gpuClass": "standard"
  },
  "nbformat": 4,
  "nbformat_minor": 0
}
